{
 "cells": [
  {
   "cell_type": "markdown",
   "id": "f3c81256-1522-45b7-8549-bcc9290cf735",
   "metadata": {},
   "source": [
    "---\n",
    "title: \"Random Number\"\n",
    "author: \"CSP\"\n",
    "date: 2024-11-14\n",
    "description: \"-\"\n",
    "type: technical_note\n",
    "draft: false\n",
    "---"
   ]
  },
  {
   "cell_type": "code",
   "execution_count": 3,
   "id": "2ef6bbb0-550c-4dd1-9bee-14216fb810d5",
   "metadata": {},
   "outputs": [],
   "source": [
    "import random"
   ]
  },
  {
   "cell_type": "code",
   "execution_count": 4,
   "id": "ecd33fa0-5f3a-4d10-9c89-113075906040",
   "metadata": {},
   "outputs": [
    {
     "data": {
      "text/plain": [
       "64"
      ]
     },
     "execution_count": 4,
     "metadata": {},
     "output_type": "execute_result"
    }
   ],
   "source": [
    "random.randint(2, 100)"
   ]
  },
  {
   "cell_type": "code",
   "execution_count": null,
   "id": "3745687b-f211-4125-9666-5ae69d20e61f",
   "metadata": {},
   "outputs": [],
   "source": []
  }
 ],
 "metadata": {
  "kernelspec": {
   "display_name": "Python 3 (ipykernel)",
   "language": "python",
   "name": "python3"
  },
  "language_info": {
   "codemirror_mode": {
    "name": "ipython",
    "version": 3
   },
   "file_extension": ".py",
   "mimetype": "text/x-python",
   "name": "python",
   "nbconvert_exporter": "python",
   "pygments_lexer": "ipython3",
   "version": "3.12.4"
  }
 },
 "nbformat": 4,
 "nbformat_minor": 5
}
