{
 "cells": [
  {
   "cell_type": "markdown",
   "metadata": {},
   "source": [
    "# Script To Make Site\n",
    "\n",
    "This script converts all jupyter notebooks into markdown files, then converts all markdown files (jupyter and note) into a website ready to push to github."
   ]
  },
  {
   "cell_type": "markdown",
   "metadata": {},
   "source": [
    "## Preliminaries"
   ]
  },
  {
   "cell_type": "code",
   "execution_count": 1,
   "metadata": {
    "execution": {
     "iopub.execute_input": "2024-11-14T13:06:02.283748Z",
     "iopub.status.busy": "2024-11-14T13:06:02.283495Z",
     "iopub.status.idle": "2024-11-14T13:06:02.286236Z",
     "shell.execute_reply": "2024-11-14T13:06:02.285958Z"
    },
    "scrolled": true
   },
   "outputs": [],
   "source": [
    "# Load libraries\n",
    "import os\n",
    "import re\n",
    "import fileinput\n",
    "import sys\n",
    "from glob import glob\n",
    "import shutil\n",
    "\n",
    "\n",
    "# Create path to content\n",
    "path = 'notebooks/'"
   ]
  },
  {
   "cell_type": "markdown",
   "metadata": {},
   "source": [
    "## Find All Jupyter Notebooks"
   ]
  },
  {
   "cell_type": "code",
   "execution_count": 2,
   "metadata": {
    "execution": {
     "iopub.execute_input": "2024-11-14T13:06:02.287654Z",
     "iopub.status.busy": "2024-11-14T13:06:02.287506Z",
     "iopub.status.idle": "2024-11-14T13:06:02.289812Z",
     "shell.execute_reply": "2024-11-14T13:06:02.289533Z"
    }
   },
   "outputs": [],
   "source": [
    "# Find all jupyter notebooks in all content folders\n",
    "all_ipynb_files = [os.path.join(root, name)\n",
    "                   for root, dirs, files in os.walk(path)\n",
    "                       for name in files\n",
    "                           if name.endswith((\".ipynb\"))]\n",
    "\n",
    "# Remove all notebooks from checkpoint folders\n",
    "ipynb_files = [ x for x in all_ipynb_files if \".ipynb_checkpoints\" not in x ]"
   ]
  },
  {
   "cell_type": "markdown",
   "metadata": {},
   "source": [
    "## Convert All Jupyter Notebooks To Markdown"
   ]
  },
  {
   "cell_type": "code",
   "execution_count": 3,
   "metadata": {
    "execution": {
     "iopub.execute_input": "2024-11-14T13:06:02.291137Z",
     "iopub.status.busy": "2024-11-14T13:06:02.290942Z",
     "iopub.status.idle": "2024-11-14T13:06:02.294493Z",
     "shell.execute_reply": "2024-11-14T13:06:02.294176Z"
    }
   },
   "outputs": [
    {
     "data": {
      "text/plain": [
       "['notebooks/py2/RandomNumber.ipynb',\n",
       " 'notebooks/python/python-division.ipynb',\n",
       " 'notebooks/python/template.ipynb',\n",
       " 'notebooks/python/simple-python.ipynb',\n",
       " 'notebooks/python/python-addition.ipynb']"
      ]
     },
     "execution_count": 3,
     "metadata": {},
     "output_type": "execute_result"
    }
   ],
   "source": [
    "ipynb_files"
   ]
  },
  {
   "cell_type": "code",
   "execution_count": 4,
   "metadata": {
    "execution": {
     "iopub.execute_input": "2024-11-14T13:06:02.317195Z",
     "iopub.status.busy": "2024-11-14T13:06:02.316866Z",
     "iopub.status.idle": "2024-11-14T13:06:06.166250Z",
     "shell.execute_reply": "2024-11-14T13:06:06.165827Z"
    }
   },
   "outputs": [
    {
     "name": "stderr",
     "output_type": "stream",
     "text": [
      "[NbConvertApp] Converting notebook notebooks/py2/RandomNumber.ipynb to markdown\n"
     ]
    },
    {
     "name": "stderr",
     "output_type": "stream",
     "text": [
      "[NbConvertApp] Writing 212 bytes to hugo-site/content/py2-note/RandomNumber.md\n"
     ]
    },
    {
     "name": "stderr",
     "output_type": "stream",
     "text": [
      "[NbConvertApp] Converting notebook notebooks/python/python-division.ipynb to markdown\n",
      "[NbConvertApp] Writing 207 bytes to hugo-site/content/python-note/python-division.md\n"
     ]
    },
    {
     "name": "stderr",
     "output_type": "stream",
     "text": [
      "[NbConvertApp] Converting notebook notebooks/python/template.ipynb to markdown\n",
      "[NbConvertApp] Writing 217 bytes to hugo-site/content/python-note/template.md\n"
     ]
    },
    {
     "name": "stderr",
     "output_type": "stream",
     "text": [
      "[NbConvertApp] Converting notebook notebooks/python/simple-python.ipynb to markdown\n",
      "[NbConvertApp] Writing 205 bytes to hugo-site/content/python-note/simple-python.md\n"
     ]
    },
    {
     "name": "stderr",
     "output_type": "stream",
     "text": [
      "[NbConvertApp] Converting notebook notebooks/python/python-addition.ipynb to markdown\n",
      "[NbConvertApp] Writing 205 bytes to hugo-site/content/python-note/python-addition.md\n"
     ]
    }
   ],
   "source": [
    "# For each file\n",
    "for file in ipynb_files:\n",
    "    # Convert into markdown\n",
    "    folder_name = file.split('/')[1]\n",
    "    output_dir = f\"hugo-site/content/{folder_name}-note\"\n",
    "    os.system(\"jupyter nbconvert --output-dir='{output}' --to markdown {file}\".format(file=file, output = output_dir))"
   ]
  }
 ],
 "metadata": {
  "interpreter": {
   "hash": "690d7c03980882b963e0b1665f16909fc90e84c5e07941b0d02a810868b44ad3"
  },
  "kernelspec": {
   "display_name": "Python 3 (ipykernel)",
   "language": "python",
   "name": "python3"
  },
  "language_info": {
   "codemirror_mode": {
    "name": "ipython",
    "version": 3
   },
   "file_extension": ".py",
   "mimetype": "text/x-python",
   "name": "python",
   "nbconvert_exporter": "python",
   "pygments_lexer": "ipython3",
   "version": "3.12.4"
  }
 },
 "nbformat": 4,
 "nbformat_minor": 4
}
